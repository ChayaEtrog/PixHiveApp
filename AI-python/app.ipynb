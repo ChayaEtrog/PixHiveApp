{
 "cells": [
  {
   "cell_type": "code",
   "execution_count": 2,
   "metadata": {},
   "outputs": [],
   "source": [
    "import requests\n",
    "from flask import Flask, request, jsonify\n",
    "from flask_cors  import CORS"
   ]
  },
  {
   "cell_type": "code",
   "execution_count": 3,
   "metadata": {},
   "outputs": [
    {
     "data": {
      "text/plain": [
       "<flask_cors.extension.CORS at 0x1364abfda50>"
      ]
     },
     "execution_count": 3,
     "metadata": {},
     "output_type": "execute_result"
    }
   ],
   "source": [
    "app = Flask(__name__)\n",
    "CORS(app) "
   ]
  },
  {
   "cell_type": "code",
   "execution_count": 4,
   "metadata": {},
   "outputs": [],
   "source": [
    "import os\n",
    "from dotenv import load_dotenv\n",
    "\n",
    "load_dotenv()\n",
    "DEEPAI_API_KEY = os.getenv(\"API_KEY\")"
   ]
  },
  {
   "cell_type": "code",
   "execution_count": 5,
   "metadata": {},
   "outputs": [],
   "source": [
    "from deep_translator import GoogleTranslator\n",
    "\n",
    "def translate_to_english(text: str) -> str:\n",
    "    try:\n",
    "        translated = GoogleTranslator(source='auto', target='en').translate(text)\n",
    "        return translated\n",
    "    except Exception as e:\n",
    "        return f\"Translation failed: {e}\""
   ]
  },
  {
   "cell_type": "code",
   "execution_count": 6,
   "metadata": {},
   "outputs": [
    {
     "name": "stdout",
     "output_type": "stream",
     "text": [
      " * Serving Flask app '__main__'\n",
      " * Debug mode: on\n"
     ]
    },
    {
     "name": "stderr",
     "output_type": "stream",
     "text": [
      "WARNING: This is a development server. Do not use it in a production deployment. Use a production WSGI server instead.\n",
      " * Running on http://127.0.0.1:5000\n",
      "Press CTRL+C to quit\n"
     ]
    }
   ],
   "source": [
    "@app.route('/process-image', methods=['POST'])\n",
    "def process_image():\n",
    "    prompt = request.form.get(\"prompt\")\n",
    "    image = request.form.get(\"image\")\n",
    "\n",
    "    if not prompt:\n",
    "        return jsonify({\"error\": \"Missing prompt\"}), 400\n",
    "    if not image:\n",
    "        return jsonify({\"error\": \"Missing image\"}), 400\n",
    "\n",
    "    # תרגום הפרומפט לאנגלית\n",
    "    translated_prompt = translate_to_english(prompt)\n",
    "    if translated_prompt.startswith(\"Translation failed:\"):\n",
    "        return jsonify({\"error\": translated_prompt}), 500\n",
    "\n",
    "    # שליחה ל-DeepAI\n",
    "    response = requests.post(\n",
    "        \"https://api.deepai.org/api/image-editor\",\n",
    "        data={\n",
    "            'image': image,\n",
    "            'text': translated_prompt,\n",
    "        },\n",
    "        headers={'api-key': '404bec69-c139-43b2-ab05-011145608097'}\n",
    "    )\n",
    "\n",
    "    if response.status_code != 200:\n",
    "        return jsonify({\"error\": \"Failed to process image\"}), 500\n",
    "\n",
    "    return jsonify(response.json())\n",
    "\n",
    "if __name__ == '__main__':\n",
    "    app.run(port=5000, debug=True, use_reloader=False)\n"
   ]
  }
 ],
 "metadata": {
  "kernelspec": {
   "display_name": "Python 3",
   "language": "python",
   "name": "python3"
  },
  "language_info": {
   "codemirror_mode": {
    "name": "ipython",
    "version": 3
   },
   "file_extension": ".py",
   "mimetype": "text/x-python",
   "name": "python",
   "nbconvert_exporter": "python",
   "pygments_lexer": "ipython3",
   "version": "3.11.5"
  }
 },
 "nbformat": 4,
 "nbformat_minor": 2
}
